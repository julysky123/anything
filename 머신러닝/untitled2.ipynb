{
 "cells": [
  {
   "cell_type": "code",
   "execution_count": 11,
   "id": "2f2ca9cc",
   "metadata": {},
   "outputs": [],
   "source": [
    "import torch\n",
    "import torch.nn as nn\n",
    "from collections import OrderedDict "
   ]
  },
  {
   "cell_type": "code",
   "execution_count": 2,
   "id": "5b375ff9",
   "metadata": {},
   "outputs": [],
   "source": [
    "model = nn.Sequential(\n",
    "            nn.Conv2d(1,20,5),\n",
    "    nn.ReLU(),\n",
    "    nn.Conv2d(20,64,5),\n",
    "    nn.ReLU()\n",
    ")"
   ]
  },
  {
   "cell_type": "code",
   "execution_count": 15,
   "id": "cbd599d6",
   "metadata": {},
   "outputs": [],
   "source": [
    "?model"
   ]
  },
  {
   "cell_type": "markdown",
   "id": "a7f0c21c",
   "metadata": {},
   "source": [
    "Sequential(\n",
    "  (0): Conv2d(1, 20, kernel_size=(5, 5), stride=(1, 1))\n",
    "  (1): ReLU()\n",
    "  (2): Conv2d(20, 64, kernel_size=(5, 5), stride=(1, 1))\n",
    "  (3): ReLU()\n",
    ")"
   ]
  },
  {
   "cell_type": "code",
   "execution_count": 13,
   "id": "fe0cd515",
   "metadata": {},
   "outputs": [],
   "source": [
    "model2 = nn.Sequential(OrderedDict([\n",
    "            ('conv1',nn.Conv2d(1,20,5)),\n",
    "    ('relu1',nn.ReLU()),\n",
    "    ('conv2',nn.Conv2d(20,64,5)),\n",
    "    ('relu2',nn.ReLU())]\n",
    "))"
   ]
  },
  {
   "cell_type": "code",
   "execution_count": 14,
   "id": "291a0ff0",
   "metadata": {},
   "outputs": [],
   "source": [
    "?model2"
   ]
  },
  {
   "cell_type": "markdown",
   "id": "19392f94",
   "metadata": {},
   "source": [
    "Sequential(\n",
    "    (conv1): Conv2d(1, 20, kernel_size=(5, 5), stride=(1, 1))\n",
    "    (relu1): ReLU()\n",
    "    (conv2): Conv2d(20, 64, kernel_size=(5, 5), stride=(1, 1))\n",
    "    (relu2): ReLU()\n",
    ")"
   ]
  },
  {
   "cell_type": "code",
   "execution_count": 18,
   "id": "f49ed59e",
   "metadata": {},
   "outputs": [
    {
     "name": "stdout",
     "output_type": "stream",
     "text": [
      "tensor(2.)\n"
     ]
    }
   ],
   "source": [
    "criterion = nn.MSELoss()\n",
    "prediction = torch.Tensor([12.,21.,30.,41.,52.])\n",
    "target = torch.Tensor([10.,20.,30.,40.,50.])\n",
    "loss = criterion(prediction, target)\n",
    "print(loss)"
   ]
  }
 ],
 "metadata": {
  "kernelspec": {
   "display_name": "Python 3 (ipykernel)",
   "language": "python",
   "name": "python3"
  },
  "language_info": {
   "codemirror_mode": {
    "name": "ipython",
    "version": 3
   },
   "file_extension": ".py",
   "mimetype": "text/x-python",
   "name": "python",
   "nbconvert_exporter": "python",
   "pygments_lexer": "ipython3",
   "version": "3.9.7"
  }
 },
 "nbformat": 4,
 "nbformat_minor": 5
}
