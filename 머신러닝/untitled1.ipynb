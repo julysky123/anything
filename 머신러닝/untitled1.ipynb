{
 "cells": [
  {
   "cell_type": "code",
   "execution_count": 10,
   "id": "12420110",
   "metadata": {},
   "outputs": [],
   "source": [
    "import torch\n",
    "import numpy as np"
   ]
  },
  {
   "cell_type": "code",
   "execution_count": 26,
   "id": "14e601f9",
   "metadata": {},
   "outputs": [
    {
     "data": {
      "text/plain": [
       "tensor([[1, 2],\n",
       "        [3, 4],\n",
       "        [5, 6]])"
      ]
     },
     "execution_count": 26,
     "metadata": {},
     "output_type": "execute_result"
    }
   ],
   "source": [
    "list1 = [[1,2],[3,4],[5,6]]\n",
    "t3 = torch.as_tensor(list1)\n",
    "t3"
   ]
  },
  {
   "cell_type": "code",
   "execution_count": 29,
   "id": "ccca78a4",
   "metadata": {},
   "outputs": [
    {
     "data": {
      "text/plain": [
       "torch.Size([3, 2])"
      ]
     },
     "execution_count": 29,
     "metadata": {},
     "output_type": "execute_result"
    }
   ],
   "source": [
    "t3.size()"
   ]
  },
  {
   "cell_type": "code",
   "execution_count": 13,
   "id": "79e51367",
   "metadata": {},
   "outputs": [
    {
     "data": {
      "text/plain": [
       "tensor([[1, 2],\n",
       "        [3, 4]], dtype=torch.int32)"
      ]
     },
     "execution_count": 13,
     "metadata": {},
     "output_type": "execute_result"
    }
   ],
   "source": [
    "arr1 = np.array([[1,2],[3,4]])\n",
    "t4 = torch.from_numpy(arr1)\n",
    "t4"
   ]
  },
  {
   "cell_type": "code",
   "execution_count": 33,
   "id": "fdad0f7e",
   "metadata": {},
   "outputs": [
    {
     "data": {
      "text/plain": [
       "tensor([[0., 0., 0., 0.],\n",
       "        [0., 0., 0., 0.],\n",
       "        [0., 0., 0., 0.]])"
      ]
     },
     "execution_count": 33,
     "metadata": {},
     "output_type": "execute_result"
    }
   ],
   "source": [
    "torch.empty(3,4)\n",
    "#초기화 하지 않은 값."
   ]
  },
  {
   "cell_type": "code",
   "execution_count": 31,
   "id": "b1c96b8f",
   "metadata": {},
   "outputs": [
    {
     "data": {
      "text/plain": [
       "tensor([-1.0373, -0.2074,  1.6153, -0.1095,  1.5123,  2.1355,  0.2549, -0.5827,\n",
       "        -1.2990,  0.1081])"
      ]
     },
     "execution_count": 31,
     "metadata": {},
     "output_type": "execute_result"
    }
   ],
   "source": [
    "torch.randn(10)"
   ]
  },
  {
   "cell_type": "code",
   "execution_count": 34,
   "id": "af06b44c",
   "metadata": {},
   "outputs": [
    {
     "data": {
      "text/plain": [
       "tensor([ 0.0000,  2.5000,  5.0000,  7.5000, 10.0000])"
      ]
     },
     "execution_count": 34,
     "metadata": {},
     "output_type": "execute_result"
    }
   ],
   "source": [
    "torch.linspace(0,10,5)"
   ]
  },
  {
   "cell_type": "code",
   "execution_count": 35,
   "id": "13d74a03",
   "metadata": {},
   "outputs": [
    {
     "data": {
      "text/plain": [
       "tensor([1.0000e+00, 3.1623e+02, 1.0000e+05, 3.1623e+07, 1.0000e+10])"
      ]
     },
     "execution_count": 35,
     "metadata": {},
     "output_type": "execute_result"
    }
   ],
   "source": [
    "torch.logspace(0,10,5)"
   ]
  },
  {
   "cell_type": "code",
   "execution_count": 36,
   "id": "1b7b581a",
   "metadata": {},
   "outputs": [],
   "source": [
    "t2 = torch.arange(6)"
   ]
  },
  {
   "cell_type": "code",
   "execution_count": 37,
   "id": "f8e7c04e",
   "metadata": {},
   "outputs": [
    {
     "data": {
      "text/plain": [
       "tensor([0, 1, 2, 3, 4, 5])"
      ]
     },
     "execution_count": 37,
     "metadata": {},
     "output_type": "execute_result"
    }
   ],
   "source": [
    "t2"
   ]
  },
  {
   "cell_type": "code",
   "execution_count": 38,
   "id": "54667f52",
   "metadata": {},
   "outputs": [
    {
     "data": {
      "text/plain": [
       "tensor([1, 3, 5, 7, 9])"
      ]
     },
     "execution_count": 38,
     "metadata": {},
     "output_type": "execute_result"
    }
   ],
   "source": [
    "torch.arange(1,10,2)"
   ]
  },
  {
   "cell_type": "code",
   "execution_count": 40,
   "id": "1dd68c72",
   "metadata": {},
   "outputs": [
    {
     "data": {
      "text/plain": [
       "torch.int64"
      ]
     },
     "execution_count": 40,
     "metadata": {},
     "output_type": "execute_result"
    }
   ],
   "source": [
    "torch.randint(5,size=(2,2,)).dtype"
   ]
  },
  {
   "cell_type": "code",
   "execution_count": 45,
   "id": "5f53c798",
   "metadata": {},
   "outputs": [
    {
     "data": {
      "text/plain": [
       "torch.float32"
      ]
     },
     "execution_count": 45,
     "metadata": {},
     "output_type": "execute_result"
    }
   ],
   "source": [
    "torch.ones((2,2,)).dtype"
   ]
  },
  {
   "cell_type": "code",
   "execution_count": 46,
   "id": "7878743b",
   "metadata": {},
   "outputs": [
    {
     "data": {
      "text/plain": [
       "tensor([[[0, 1, 2],\n",
       "         [3, 4, 5]]])"
      ]
     },
     "execution_count": 46,
     "metadata": {},
     "output_type": "execute_result"
    }
   ],
   "source": [
    "t2.view((1,2,3))"
   ]
  },
  {
   "cell_type": "code",
   "execution_count": 47,
   "id": "220c66b0",
   "metadata": {},
   "outputs": [
    {
     "data": {
      "text/plain": [
       "tensor([[[0, 1]],\n",
       "\n",
       "        [[2, 3]],\n",
       "\n",
       "        [[4, 5]]])"
      ]
     },
     "execution_count": 47,
     "metadata": {},
     "output_type": "execute_result"
    }
   ],
   "source": [
    "t2.view((3,1,2))"
   ]
  },
  {
   "cell_type": "code",
   "execution_count": 48,
   "id": "fc0c7f6c",
   "metadata": {},
   "outputs": [
    {
     "data": {
      "text/plain": [
       "tensor([[0, 1],\n",
       "        [2, 3],\n",
       "        [4, 5]])"
      ]
     },
     "execution_count": 48,
     "metadata": {},
     "output_type": "execute_result"
    }
   ],
   "source": [
    "t2.view((3,1,2)).squeeze()"
   ]
  },
  {
   "cell_type": "code",
   "execution_count": 49,
   "id": "8d73250b",
   "metadata": {},
   "outputs": [
    {
     "data": {
      "text/plain": [
       "tensor([[[0],\n",
       "         [1]],\n",
       "\n",
       "        [[2],\n",
       "         [3]],\n",
       "\n",
       "        [[4],\n",
       "         [5]]])"
      ]
     },
     "execution_count": 49,
     "metadata": {},
     "output_type": "execute_result"
    }
   ],
   "source": [
    "t2.view((3,1,2)).squeeze().unsqueeze(2)"
   ]
  },
  {
   "cell_type": "code",
   "execution_count": 51,
   "id": "d77826a1",
   "metadata": {},
   "outputs": [
    {
     "data": {
      "text/plain": [
       "torch.Size([3, 2, 1])"
      ]
     },
     "execution_count": 51,
     "metadata": {},
     "output_type": "execute_result"
    }
   ],
   "source": [
    "t2.view((3,1,2)).squeeze().unsqueeze(2).shape"
   ]
  },
  {
   "cell_type": "code",
   "execution_count": 52,
   "id": "67450c06",
   "metadata": {},
   "outputs": [
    {
     "data": {
      "text/plain": [
       "torch.Size([3, 2, 1])"
      ]
     },
     "execution_count": 52,
     "metadata": {},
     "output_type": "execute_result"
    }
   ],
   "source": [
    "t2.view((3,1,2)).squeeze().unsqueeze(2).size()"
   ]
  },
  {
   "cell_type": "code",
   "execution_count": 60,
   "id": "fdff592c",
   "metadata": {},
   "outputs": [],
   "source": [
    "x = torch.rand(2,2,requires_grad=True)"
   ]
  },
  {
   "cell_type": "code",
   "execution_count": 61,
   "id": "77068291",
   "metadata": {},
   "outputs": [
    {
     "name": "stdout",
     "output_type": "stream",
     "text": [
      "tensor([[0.6739, 0.2130],\n",
      "        [0.6513, 0.3468]], requires_grad=True)\n"
     ]
    }
   ],
   "source": [
    "print(x)"
   ]
  },
  {
   "cell_type": "code",
   "execution_count": 62,
   "id": "2b98d4c9",
   "metadata": {},
   "outputs": [
    {
     "name": "stdout",
     "output_type": "stream",
     "text": [
      "tensor(5.6552, grad_fn=<SumBackward0>)\n"
     ]
    }
   ],
   "source": [
    "y = torch.sum(x*3)\n",
    "print(y)"
   ]
  },
  {
   "cell_type": "code",
   "execution_count": 63,
   "id": "16cff3f4",
   "metadata": {},
   "outputs": [],
   "source": [
    "y.backward()"
   ]
  },
  {
   "cell_type": "code",
   "execution_count": 64,
   "id": "b20f1196",
   "metadata": {},
   "outputs": [
    {
     "data": {
      "text/plain": [
       "tensor([[3., 3.],\n",
       "        [3., 3.]])"
      ]
     },
     "execution_count": 64,
     "metadata": {},
     "output_type": "execute_result"
    }
   ],
   "source": [
    "x.grad"
   ]
  },
  {
   "cell_type": "code",
   "execution_count": 65,
   "id": "9913b20d",
   "metadata": {},
   "outputs": [],
   "source": [
    "from torch.autograd import grad"
   ]
  },
  {
   "cell_type": "code",
   "execution_count": 66,
   "id": "353dd338",
   "metadata": {},
   "outputs": [],
   "source": [
    "x1 = torch.tensor(2,requires_grad=True, dtype=torch.float32)\n",
    "x2 = torch.tensor(3,requires_grad=True, dtype=torch.float32)\n",
    "x3 = torch.tensor(1,requires_grad=True, dtype=torch.float32)\n",
    "x4 = torch.tensor(4,requires_grad=True, dtype=torch.float32)"
   ]
  },
  {
   "cell_type": "code",
   "execution_count": 67,
   "id": "dd8a644d",
   "metadata": {},
   "outputs": [],
   "source": [
    "z1 = x1 * x2\n",
    "z2 = x3 * x4\n",
    "f = z1 + z2"
   ]
  },
  {
   "cell_type": "code",
   "execution_count": 68,
   "id": "f65bf1b3",
   "metadata": {},
   "outputs": [],
   "source": [
    "f.backward()"
   ]
  },
  {
   "cell_type": "code",
   "execution_count": 69,
   "id": "7084d048",
   "metadata": {},
   "outputs": [
    {
     "name": "stdout",
     "output_type": "stream",
     "text": [
      "radient of x1 = 3.0\n",
      "radient of x2 = 2.0\n",
      "radient of x3 = 4.0\n",
      "radient of x4 = 1.0\n"
     ]
    }
   ],
   "source": [
    "print(f'radient of x1 = {x1.grad}')\n",
    "print(f'radient of x2 = {x2.grad}')\n",
    "print(f'radient of x3 = {x3.grad}')\n",
    "print(f'radient of x4 = {x4.grad}')"
   ]
  },
  {
   "cell_type": "code",
   "execution_count": 84,
   "id": "d927cfa1",
   "metadata": {},
   "outputs": [],
   "source": [
    "a0 = torch.tensor(2,requires_grad=True, dtype=torch.float32)\n",
    "a1 = torch.tensor(2,requires_grad=True, dtype=torch.float32)\n",
    "a2 = torch.tensor(3,requires_grad=True, dtype=torch.float32)"
   ]
  },
  {
   "cell_type": "code",
   "execution_count": 85,
   "id": "b74aaa98",
   "metadata": {},
   "outputs": [],
   "source": [
    "b1 = a0*a1*a2"
   ]
  },
  {
   "cell_type": "code",
   "execution_count": 86,
   "id": "bacb19fe",
   "metadata": {},
   "outputs": [
    {
     "name": "stdout",
     "output_type": "stream",
     "text": [
      "tensor(12., grad_fn=<MulBackward0>)\n"
     ]
    }
   ],
   "source": [
    "print(b1)"
   ]
  },
  {
   "cell_type": "code",
   "execution_count": 87,
   "id": "265c1c93",
   "metadata": {},
   "outputs": [],
   "source": [
    "b1.backward()"
   ]
  },
  {
   "cell_type": "code",
   "execution_count": 88,
   "id": "b7b133c5",
   "metadata": {},
   "outputs": [
    {
     "name": "stdout",
     "output_type": "stream",
     "text": [
      "tensor(12., grad_fn=<MulBackward0>)\n"
     ]
    }
   ],
   "source": [
    "print(b1)"
   ]
  },
  {
   "cell_type": "code",
   "execution_count": 89,
   "id": "9b9b8aeb",
   "metadata": {},
   "outputs": [
    {
     "data": {
      "text/plain": [
       "tensor(6.)"
      ]
     },
     "execution_count": 89,
     "metadata": {},
     "output_type": "execute_result"
    }
   ],
   "source": [
    "a1.grad "
   ]
  },
  {
   "cell_type": "code",
   "execution_count": 90,
   "id": "663a67fa",
   "metadata": {},
   "outputs": [
    {
     "data": {
      "text/plain": [
       "tensor(4.)"
      ]
     },
     "execution_count": 90,
     "metadata": {},
     "output_type": "execute_result"
    }
   ],
   "source": [
    "a2.grad"
   ]
  },
  {
   "cell_type": "code",
   "execution_count": 91,
   "id": "d7d5f5a9",
   "metadata": {},
   "outputs": [
    {
     "data": {
      "text/plain": [
       "tensor(12.)"
      ]
     },
     "execution_count": 91,
     "metadata": {},
     "output_type": "execute_result"
    }
   ],
   "source": [
    "b1.data"
   ]
  },
  {
   "cell_type": "code",
   "execution_count": 95,
   "id": "a7de4389",
   "metadata": {},
   "outputs": [
    {
     "data": {
      "text/plain": [
       "True"
      ]
     },
     "execution_count": 95,
     "metadata": {},
     "output_type": "execute_result"
    }
   ],
   "source": [
    "x = torch.tensor(1.0,requires_grad=True)\n",
    "y= x*2\n",
    "y.requires_grad"
   ]
  },
  {
   "cell_type": "code",
   "execution_count": 96,
   "id": "30b1114d",
   "metadata": {},
   "outputs": [
    {
     "data": {
      "text/plain": [
       "False"
      ]
     },
     "execution_count": 96,
     "metadata": {},
     "output_type": "execute_result"
    }
   ],
   "source": [
    "x = torch.tensor(1.0,requires_grad=True)\n",
    "with torch.no_grad():\n",
    "    y= x*2\n",
    "y.requires_grad"
   ]
  },
  {
   "cell_type": "code",
   "execution_count": null,
   "id": "58491aea",
   "metadata": {},
   "outputs": [],
   "source": []
  }
 ],
 "metadata": {
  "kernelspec": {
   "display_name": "Python 3 (ipykernel)",
   "language": "python",
   "name": "python3"
  },
  "language_info": {
   "codemirror_mode": {
    "name": "ipython",
    "version": 3
   },
   "file_extension": ".py",
   "mimetype": "text/x-python",
   "name": "python",
   "nbconvert_exporter": "python",
   "pygments_lexer": "ipython3",
   "version": "3.9.7"
  }
 },
 "nbformat": 4,
 "nbformat_minor": 5
}
